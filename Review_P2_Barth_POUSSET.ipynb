{
 "cells": [
  {
   "cell_type": "markdown",
   "metadata": {},
   "source": [
    "# Correction rapport P2 Barth POUSSET"
   ]
  },
  {
   "cell_type": "markdown",
   "metadata": {},
   "source": [
    "## Partie 1 : Exploration des datas"
   ]
  },
  {
   "cell_type": "markdown",
   "metadata": {},
   "source": [
    "1er IN[ ] : La récupération des données du fichier CSV peut se faire plus rapidement sans utiliser de boucle mais en utilisant une fonction (comme avec la lib panda par exemple). Les données sont bien dans une variable de type tableau, c'est le principale !"
   ]
  },
  {
   "cell_type": "markdown",
   "metadata": {},
   "source": [
    "2nd IN[ ] : Ce sont des statistiques simple mais si ils les utilisent par la suite, c'est bien de les avoir regrouper pour venir les modifiers plus facilement."
   ]
  },
  {
   "cell_type": "markdown",
   "metadata": {},
   "source": [
    "3ème IN [ ] : Un chart aurait était le bienvenue. Néanmoins la façon d'afficher les variables dans un la fonction \"print\" est la bonne."
   ]
  },
  {
   "cell_type": "markdown",
   "metadata": {},
   "source": [
    "## Partie 2 : Exploration de la librairie Panda et tri des données"
   ]
  },
  {
   "cell_type": "markdown",
   "metadata": {},
   "source": [
    "Tous les IN[ ] : Ils observent les donées avec la lib panda mais n'en tire aucune conclusion. Il en va de même pour les graphiques histogramme"
   ]
  },
  {
   "cell_type": "markdown",
   "metadata": {},
   "source": [
    "### Partie 3 : Nettoyage des données"
   ]
  },
  {
   "cell_type": "markdown",
   "metadata": {},
   "source": [
    "introduction : Cette partie 3 aurait dû logiquement se trouver bien avant car des calcules et des observations ont déjà été faite alors que certaine données étaient manquante voir érronnée... Heureusement, peu de calculs ont été fait sur les colonnes nettoyé."
   ]
  },
  {
   "cell_type": "markdown",
   "metadata": {},
   "source": [
    "le dernier OUT[ ] de la partie 3 : Le \"sexe vs prix\" est une bonne idée mais le graphique n'est pas très bien adapté. Heureusement que les cadrillages du fond sont présent pour nous aider !"
   ]
  },
  {
   "cell_type": "markdown",
   "metadata": {},
   "source": [
    "#### Partie 3 : Debut d'analyse"
   ]
  },
  {
   "cell_type": "markdown",
   "metadata": {},
   "source": [
    "1er et 2nd OUT[ ] : Les graphiques de type \"nuage de point\" ne sont pas très adapté pour des données binaires (voir trinaire). Ce qui fait que les regressions linéaires apparaissent étonnant sur les graphiques."
   ]
  },
  {
   "cell_type": "markdown",
   "metadata": {},
   "source": [
    "3ème OUT [ ] : idée assez farfelue mais on ne sait jamais, peut-être existait-il dans le titanic des cabines de lux pour famille nombreuse."
   ]
  },
  {
   "cell_type": "markdown",
   "metadata": {},
   "source": [
    "##### Conclusion des analyses : il est dommage qu'un seule \"bout de code\" soit répété avec seulement les données qui changent car justement, d'une colonne à l'autre les données ne sont pas de même nature et n'auront donc pas les mêmes graphiques. Sinon ce \"bout de code\" est correct et fonctionne bien, c'est déjà ça !"
   ]
  },
  {
   "cell_type": "markdown",
   "metadata": {},
   "source": []
  }
 ],
 "metadata": {
  "anaconda-cloud": {},
  "kernelspec": {
   "display_name": "Python [default]",
   "language": "python",
   "name": "python2"
  },
  "language_info": {
   "codemirror_mode": {
    "name": "ipython",
    "version": 2
   },
   "file_extension": ".py",
   "mimetype": "text/x-python",
   "name": "python",
   "nbconvert_exporter": "python",
   "pygments_lexer": "ipython2",
   "version": "2.7.12"
  }
 },
 "nbformat": 4,
 "nbformat_minor": 1
}
