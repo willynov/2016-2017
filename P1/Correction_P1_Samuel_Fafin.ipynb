{
 "cells": [
  {
   "cell_type": "markdown",
   "metadata": {},
   "source": [
    "# Correction rapport P1 Samuel Fafin"
   ]
  },
  {
   "cell_type": "markdown",
   "metadata": {},
   "source": [
    "### Nettoyer les Données\n",
    "#### Le fait de remplacer les NaN de la colonne Age par des valeurs mediane est une bonne idée pour ne pas fauser les résultat des analyses futur.\n",
    "\n",
    "### Genre\n",
    "#### C'est une analyse qui mène a un resultat probant. Néanmoins, l'instruction .copy() n'est pas necessaire et les écritures sont trop condensé.\n",
    "\n",
    "### Age\n",
    "#### Resultats correctes et le netoyage des données effectué précedement apporte un pourcentage moins faucé. Cette partie prouve bien que l'age est déterminant et donc que les personnes sur le titanic lors du naufrage ne sont pas a remettre en cause.\n",
    "\n",
    "### Classe d'embarcation\n",
    "#### Pas terminé mais l'analyse est une bonne idée.\n",
    "\n",
    "### Conclusion\n",
    "1. Profondeur de l'analyse : Manque de graphique pour faire resortir les resultats. Beaucoup de colonne de train.csv n'ont pas été exploité. Pour finir, le nettoyage des données à bien été utile, très bon point !\n",
    "2. Clarté (en français et technique) de votre présentation : explique bien point par point et de manière limpide (sauf la fin qui n'est pas terminé).\n",
    "3. Attention au raisonnement : Les raisonnement sont bon car apporte une preuve probante. il faudrait néanmois chercher si il n'y a pas de valeur résiduelle qui ne fausse pas ces résultats pour en être certain à 100%."
   ]
  }
 ],
 "metadata": {
  "anaconda-cloud": {},
  "kernelspec": {
   "display_name": "Python [conda root]",
   "language": "python",
   "name": "conda-root-py"
  },
  "language_info": {
   "codemirror_mode": {
    "name": "ipython",
    "version": 2
   },
   "file_extension": ".py",
   "mimetype": "text/x-python",
   "name": "python",
   "nbconvert_exporter": "python",
   "pygments_lexer": "ipython2",
   "version": "2.7.12"
  }
 },
 "nbformat": 4,
 "nbformat_minor": 1
}
