{
 "cells": [
  {
   "cell_type": "markdown",
   "metadata": {},
   "source": [
    "# Correction rapport P1 Annette Hellebois :"
   ]
  },
  {
   "cell_type": "markdown",
   "metadata": {},
   "source": [
    "### In [57&58] \n",
    "#### Correct mais n'a pas nettoyé les données. Néanmoins, ce n'est pas necessaire dans tous les cas : attendons la suite\n",
    "\n",
    "### In [59]\n",
    "#### Une bonne idée que de lister les types tout de suite, cela évitera les erreurs pour la suite car avec tous les racouricis de langagage de python, on s'y perd vite ! \n",
    "#### Ici '(Objet)' est un string\n",
    "\n",
    "### In [95]\n",
    "#### correct mais cette écriture suffisait :\n",
    "print len(df)\n",
    "\n",
    "### In [14&66&67]\n",
    "#### correct et propre mais il y avait plus court comme écriture comme par exemple \n",
    "sexF = df[\"Sex\"] == \"female\"\n",
    "print len(df[sexF])\n",
    "\n",
    "### In [67&68] \n",
    "#### np.int plutôt que np.float\n",
    "\n",
    "### In [69&71]\n",
    "#### Ceci est juste un constat. Il faudrait aller plus loin pour voir si il y a une inégalité flagrante entre les hommes et le femmes par exemple.\n",
    "\n",
    "### In [111&112]\n",
    "#### Je pense que le but était de calculer la proportion de survivant. Pour cela il aurait fallut passer les deux variable 'number_passengers' et 'Survivants' en float correctement.\n",
    "\n",
    "### Conclusion\n",
    "1. Profondeur de l'analyse : Ne va pas assez loin , manque de graphique pour faire resortir les resultat. Pour finir, beaucoup de colonne de train.csv n'ont pas été exploité.\n",
    "2. Clarté (en français et technique) de votre présentation : explique bien point par point et est très claire (sauf la fin qui n'est pas terminé).\n",
    "3. Attention au raisonnement : Les resultat trouvés n'apporte pas la preuvent d'une anomalie ou d'un raisonement, ce sont de simple constat."
   ]
  },
  {
   "cell_type": "code",
   "execution_count": null,
   "metadata": {
    "collapsed": true
   },
   "outputs": [],
   "source": []
  }
 ],
 "metadata": {
  "anaconda-cloud": {},
  "kernelspec": {
   "display_name": "Python [default]",
   "language": "python",
   "name": "python2"
  },
  "language_info": {
   "codemirror_mode": {
    "name": "ipython",
    "version": 2
   },
   "file_extension": ".py",
   "mimetype": "text/x-python",
   "name": "python",
   "nbconvert_exporter": "python",
   "pygments_lexer": "ipython2",
   "version": "2.7.12"
  }
 },
 "nbformat": 4,
 "nbformat_minor": 1
}
