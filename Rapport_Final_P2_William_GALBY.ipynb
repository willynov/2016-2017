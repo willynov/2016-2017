{
 "cells": [
  {
   "cell_type": "markdown",
   "metadata": {},
   "source": [
    "# P2 William GALBY : Analyse approfondie des données du TITANIC"
   ]
  },
  {
   "cell_type": "markdown",
   "metadata": {},
   "source": [
    "## But de l'analyse"
   ]
  },
  {
   "cell_type": "markdown",
   "metadata": {},
   "source": [
    "Trouver des incohérences dans le fichier plat \"train\" au format CSV pour aider un client qui se trouve face à un procès à travers le temps."
   ]
  },
  {
   "cell_type": "markdown",
   "metadata": {},
   "source": [
    "## Import des outils"
   ]
  },
  {
   "cell_type": "code",
   "execution_count": 162,
   "metadata": {
    "collapsed": false
   },
   "outputs": [],
   "source": [
    "import pandas as pd\n",
    "import csv as csv\n",
    "import numpy as np\n",
    "import scipy.stats as ss\n",
    "import matplotlib.pyplot as plt\n",
    "import sklearn"
   ]
  },
  {
   "cell_type": "markdown",
   "metadata": {},
   "source": [
    "- pandas : \n",
    "- csv : \n",
    "- numpy : \n",
    "- scipy.stats : \n",
    "- matplotlib.pyplot : \n",
    "- sklearn : "
   ]
  },
  {
   "cell_type": "markdown",
   "metadata": {},
   "source": [
    "## Import des données pour manipulation"
   ]
  },
  {
   "cell_type": "code",
   "execution_count": 163,
   "metadata": {
    "collapsed": false
   },
   "outputs": [],
   "source": [
    "df = pd.read_csv('train.csv', header=0)"
   ]
  },
  {
   "cell_type": "markdown",
   "metadata": {},
   "source": [
    "- df pour dataframe\n",
    "- header = 0 indique qu'il y a un titres sur chaque colonne"
   ]
  },
  {
   "cell_type": "markdown",
   "metadata": {},
   "source": [
    "## Observation des colonnes"
   ]
  },
  {
   "cell_type": "code",
   "execution_count": 164,
   "metadata": {
    "collapsed": false,
    "scrolled": false
   },
   "outputs": [
    {
     "data": {
      "text/html": [
       "<div>\n",
       "<table border=\"1\" class=\"dataframe\">\n",
       "  <thead>\n",
       "    <tr style=\"text-align: right;\">\n",
       "      <th></th>\n",
       "      <th>PassengerId</th>\n",
       "      <th>Survived</th>\n",
       "      <th>Pclass</th>\n",
       "      <th>Name</th>\n",
       "      <th>Sex</th>\n",
       "      <th>Age</th>\n",
       "      <th>SibSp</th>\n",
       "      <th>Parch</th>\n",
       "      <th>Ticket</th>\n",
       "      <th>Fare</th>\n",
       "      <th>Cabin</th>\n",
       "      <th>Embarked</th>\n",
       "    </tr>\n",
       "  </thead>\n",
       "  <tbody>\n",
       "    <tr>\n",
       "      <th>0</th>\n",
       "      <td>1</td>\n",
       "      <td>0</td>\n",
       "      <td>3</td>\n",
       "      <td>Braund, Mr. Owen Harris</td>\n",
       "      <td>male</td>\n",
       "      <td>22.0</td>\n",
       "      <td>1</td>\n",
       "      <td>0</td>\n",
       "      <td>A/5 21171</td>\n",
       "      <td>7.2500</td>\n",
       "      <td>NaN</td>\n",
       "      <td>S</td>\n",
       "    </tr>\n",
       "    <tr>\n",
       "      <th>1</th>\n",
       "      <td>2</td>\n",
       "      <td>1</td>\n",
       "      <td>1</td>\n",
       "      <td>Cumings, Mrs. John Bradley (Florence Briggs Th...</td>\n",
       "      <td>female</td>\n",
       "      <td>38.0</td>\n",
       "      <td>1</td>\n",
       "      <td>0</td>\n",
       "      <td>PC 17599</td>\n",
       "      <td>71.2833</td>\n",
       "      <td>C85</td>\n",
       "      <td>C</td>\n",
       "    </tr>\n",
       "    <tr>\n",
       "      <th>2</th>\n",
       "      <td>3</td>\n",
       "      <td>1</td>\n",
       "      <td>3</td>\n",
       "      <td>Heikkinen, Miss. Laina</td>\n",
       "      <td>female</td>\n",
       "      <td>26.0</td>\n",
       "      <td>0</td>\n",
       "      <td>0</td>\n",
       "      <td>STON/O2. 3101282</td>\n",
       "      <td>7.9250</td>\n",
       "      <td>NaN</td>\n",
       "      <td>S</td>\n",
       "    </tr>\n",
       "    <tr>\n",
       "      <th>3</th>\n",
       "      <td>4</td>\n",
       "      <td>1</td>\n",
       "      <td>1</td>\n",
       "      <td>Futrelle, Mrs. Jacques Heath (Lily May Peel)</td>\n",
       "      <td>female</td>\n",
       "      <td>35.0</td>\n",
       "      <td>1</td>\n",
       "      <td>0</td>\n",
       "      <td>113803</td>\n",
       "      <td>53.1000</td>\n",
       "      <td>C123</td>\n",
       "      <td>S</td>\n",
       "    </tr>\n",
       "    <tr>\n",
       "      <th>4</th>\n",
       "      <td>5</td>\n",
       "      <td>0</td>\n",
       "      <td>3</td>\n",
       "      <td>Allen, Mr. William Henry</td>\n",
       "      <td>male</td>\n",
       "      <td>35.0</td>\n",
       "      <td>0</td>\n",
       "      <td>0</td>\n",
       "      <td>373450</td>\n",
       "      <td>8.0500</td>\n",
       "      <td>NaN</td>\n",
       "      <td>S</td>\n",
       "    </tr>\n",
       "  </tbody>\n",
       "</table>\n",
       "</div>"
      ],
      "text/plain": [
       "   PassengerId  Survived  Pclass  \\\n",
       "0            1         0       3   \n",
       "1            2         1       1   \n",
       "2            3         1       3   \n",
       "3            4         1       1   \n",
       "4            5         0       3   \n",
       "\n",
       "                                                Name     Sex   Age  SibSp  \\\n",
       "0                            Braund, Mr. Owen Harris    male  22.0      1   \n",
       "1  Cumings, Mrs. John Bradley (Florence Briggs Th...  female  38.0      1   \n",
       "2                             Heikkinen, Miss. Laina  female  26.0      0   \n",
       "3       Futrelle, Mrs. Jacques Heath (Lily May Peel)  female  35.0      1   \n",
       "4                           Allen, Mr. William Henry    male  35.0      0   \n",
       "\n",
       "   Parch            Ticket     Fare Cabin Embarked  \n",
       "0      0         A/5 21171   7.2500   NaN        S  \n",
       "1      0          PC 17599  71.2833   C85        C  \n",
       "2      0  STON/O2. 3101282   7.9250   NaN        S  \n",
       "3      0            113803  53.1000  C123        S  \n",
       "4      0            373450   8.0500   NaN        S  "
      ]
     },
     "execution_count": 164,
     "metadata": {},
     "output_type": "execute_result"
    }
   ],
   "source": [
    "df.head()"
   ]
  },
  {
   "cell_type": "markdown",
   "metadata": {},
   "source": [
    "- Nous pouvons en déduire la signification des colonnes suivantes :\n",
    "    - PassengerId : identifiant passager\n",
    "    - Survived : variable booléenne, 0 = n'a pas survécu ; 1 = a survécu\n",
    "    - Pclass : classe du voyageur, 1 ; 2 ; 3\n",
    "    - Name : nom et prénom du passager\n",
    "    - Sex : variable booléenne, male ; female\n",
    "    - Age : age du passager\n",
    "    - SibSp: Nombre de frères, soeurs ou époux/épouse\n",
    "    - Parch: Nombre de Père/Mère\n",
    "    - Ticket : numéro de ticket du passager\n",
    "    - Fare: Prix du ticket du passager\n",
    "    - Cabin: Numéro de cabine\n",
    "    - Embarked: Lieu d'embarcation, C = Cherbourg; Q = Queenstown; S = Southampton"
   ]
  },
  {
   "cell_type": "markdown",
   "metadata": {},
   "source": [
    "## Observation des lignes"
   ]
  },
  {
   "cell_type": "code",
   "execution_count": 165,
   "metadata": {
    "collapsed": false
   },
   "outputs": [
    {
     "name": "stdout",
     "output_type": "stream",
     "text": [
      "<class 'pandas.core.frame.DataFrame'>\n",
      "RangeIndex: 891 entries, 0 to 890\n",
      "Data columns (total 12 columns):\n",
      "PassengerId    891 non-null int64\n",
      "Survived       891 non-null int64\n",
      "Pclass         891 non-null int64\n",
      "Name           891 non-null object\n",
      "Sex            891 non-null object\n",
      "Age            714 non-null float64\n",
      "SibSp          891 non-null int64\n",
      "Parch          891 non-null int64\n",
      "Ticket         891 non-null object\n",
      "Fare           891 non-null float64\n",
      "Cabin          204 non-null object\n",
      "Embarked       889 non-null object\n",
      "dtypes: float64(2), int64(5), object(5)\n",
      "memory usage: 83.6+ KB\n"
     ]
    }
   ],
   "source": [
    "df.info()"
   ]
  },
  {
   "cell_type": "markdown",
   "metadata": {},
   "source": [
    "- Il y a 891 lignes, les colonnes suivantes sont donc imcomplètes et vont devoir être complétés pour \n",
    "éviter qu'elles ne faussent nos futures analyses :\n",
    "    - Age\n",
    "    - Cabin : Beaucoup trop de données manquantes pour remplire de manière cohérentes cette colonne. Par exemple lorsque l'on regarde les cabines commençant par la lettre 'B', il y a des passagers de tous ages, qui à des prix différents. On observe par contre que la classe et la cabine on une relation mais il y a trop de cabine (exemple pour la classe 1 : A, B, C, D, E, T)\n",
    "    - Embarked"
   ]
  },
  {
   "cell_type": "markdown",
   "metadata": {},
   "source": [
    "## Nettoyage des données : Age"
   ]
  },
  {
   "cell_type": "code",
   "execution_count": 166,
   "metadata": {
    "collapsed": false
   },
   "outputs": [
    {
     "name": "stdout",
     "output_type": "stream",
     "text": [
      "0      22.000000\n",
      "1      38.000000\n",
      "2      26.000000\n",
      "3      35.000000\n",
      "4      35.000000\n",
      "5      29.699118\n",
      "6      54.000000\n",
      "7       2.000000\n",
      "8      27.000000\n",
      "9      14.000000\n",
      "10      4.000000\n",
      "11     58.000000\n",
      "12     20.000000\n",
      "13     39.000000\n",
      "14     14.000000\n",
      "15     55.000000\n",
      "16      2.000000\n",
      "17     29.699118\n",
      "18     31.000000\n",
      "19     29.699118\n",
      "20     35.000000\n",
      "21     34.000000\n",
      "22     15.000000\n",
      "23     28.000000\n",
      "24      8.000000\n",
      "25     38.000000\n",
      "26     29.699118\n",
      "27     19.000000\n",
      "28     29.699118\n",
      "29     29.699118\n",
      "         ...    \n",
      "861    21.000000\n",
      "862    48.000000\n",
      "863    29.699118\n",
      "864    24.000000\n",
      "865    42.000000\n",
      "866    27.000000\n",
      "867    31.000000\n",
      "868    29.699118\n",
      "869     4.000000\n",
      "870    26.000000\n",
      "871    47.000000\n",
      "872    33.000000\n",
      "873    47.000000\n",
      "874    28.000000\n",
      "875    15.000000\n",
      "876    20.000000\n",
      "877    19.000000\n",
      "878    29.699118\n",
      "879    56.000000\n",
      "880    25.000000\n",
      "881    33.000000\n",
      "882    22.000000\n",
      "883    28.000000\n",
      "884    25.000000\n",
      "885    39.000000\n",
      "886    27.000000\n",
      "887    19.000000\n",
      "888    29.699118\n",
      "889    26.000000\n",
      "890    32.000000\n",
      "Name: Age, dtype: float64\n"
     ]
    }
   ],
   "source": [
    "df['Age'].fillna(df['Age'].mean(), inplace=True)\n",
    "print(df['Age'])"
   ]
  },
  {
   "cell_type": "markdown",
   "metadata": {},
   "source": [
    "## Nettoyage des données : Embarked"
   ]
  },
  {
   "cell_type": "code",
   "execution_count": 167,
   "metadata": {
    "collapsed": false
   },
   "outputs": [
    {
     "name": "stdout",
     "output_type": "stream",
     "text": [
      "Nom complet : Icard, Miss. Amelie ;\n",
      " Sex : female ;\n",
      " Numéro de ticket : 113572 ;\n",
      " Cabine numéro : B28 ;\n",
      " Prix : 80.0 ;\n",
      " Classe : 1\n",
      "Nom complet : Stone, Mrs. George Nelson (Martha Evelyn) ;\n",
      " Sex : female ;\n",
      " Numéro de ticket : 113572 ;\n",
      " Cabine numéro : B28 ;\n",
      " Prix : 80.0 ;\n",
      " Classe : 1\n"
     ]
    }
   ],
   "source": [
    "df['Embarked'].fillna(0, inplace=True)\n",
    "for indice, valeur in enumerate(df['Embarked']):\n",
    "    if valeur == 0:\n",
    "        print 'Nom complet : ' + df['Name'][indice] + ' ;\\n Sex : ' + df['Sex'][indice] + ' ;\\n Numéro de ticket : ' + df['Ticket'][indice] + ' ;\\n Cabine numéro : ' + df['Cabin'][indice]+ ' ;\\n Prix : ' + df['Fare'][indice].astype(np.str)  + ' ;\\n Classe : ' + df['Pclass'][indice].astype(np.str) "
   ]
  },
  {
   "cell_type": "markdown",
   "metadata": {},
   "source": [
    "- Les deux seules personnes dont il manque le lieu d'ebarcation sont identique, si ce n'est l'âge (et l'id bien entendu). Elle voyagait ensemble pour sûr ! Etrange..."
   ]
  },
  {
   "cell_type": "markdown",
   "metadata": {},
   "source": [
    "## Nettoyage des données : Sex"
   ]
  },
  {
   "cell_type": "code",
   "execution_count": 168,
   "metadata": {
    "collapsed": false
   },
   "outputs": [
    {
     "name": "stdout",
     "output_type": "stream",
     "text": [
      "0      M\n",
      "1      F\n",
      "2      F\n",
      "3      F\n",
      "4      M\n",
      "5      M\n",
      "6      M\n",
      "7      M\n",
      "8      F\n",
      "9      F\n",
      "10     F\n",
      "11     F\n",
      "12     M\n",
      "13     M\n",
      "14     F\n",
      "15     F\n",
      "16     M\n",
      "17     M\n",
      "18     F\n",
      "19     F\n",
      "20     M\n",
      "21     M\n",
      "22     F\n",
      "23     M\n",
      "24     F\n",
      "25     F\n",
      "26     M\n",
      "27     M\n",
      "28     F\n",
      "29     M\n",
      "      ..\n",
      "861    M\n",
      "862    F\n",
      "863    F\n",
      "864    M\n",
      "865    F\n",
      "866    F\n",
      "867    M\n",
      "868    M\n",
      "869    M\n",
      "870    M\n",
      "871    F\n",
      "872    M\n",
      "873    M\n",
      "874    F\n",
      "875    F\n",
      "876    M\n",
      "877    M\n",
      "878    M\n",
      "879    F\n",
      "880    F\n",
      "881    M\n",
      "882    F\n",
      "883    M\n",
      "884    M\n",
      "885    F\n",
      "886    M\n",
      "887    F\n",
      "888    F\n",
      "889    M\n",
      "890    M\n",
      "Name: Gender, dtype: object\n"
     ]
    }
   ],
   "source": [
    "df['Gender'] = 12\n",
    "df['Gender'] = df['Sex'].map( lambda x: x[0].upper())\n",
    "print df['Gender']"
   ]
  },
  {
   "cell_type": "markdown",
   "metadata": {},
   "source": [
    "- Pour une question de facilité de manipulation des données, rajoutons une colonne à la fin du dataset originel correspondant au Sex sous forme de Genre M ou F"
   ]
  },
  {
   "cell_type": "markdown",
   "metadata": {},
   "source": [
    "## Analyse du tarif : Nuage de points et régression linaire : "
   ]
  },
  {
   "cell_type": "code",
   "execution_count": 169,
   "metadata": {
    "collapsed": false
   },
   "outputs": [
    {
     "data": {
      "image/png": "[encoded data removed]",
      "text/plain": [
       "<matplotlib.figure.Figure at 0xf2a3b38>"
      ]
     },
     "metadata": {},
     "output_type": "display_data"
    }
   ],
   "source": [
    "df = pd.read_csv('train.csv', header=0)\n",
    "df.fillna(0, inplace=True)\n",
    "Age  = df['Age']\n",
    "Age = Age.astype(np.int64)\n",
    "Tarif = df['Fare']\n",
    "a, b, c, d, e = ss.linregress(Age,Tarif)\n",
    "plt.figure();\n",
    "plt.title('Age <> Tarif')\n",
    "plt.xlabel('Age des passagers')\n",
    "plt.ylabel('Tarif des billets')\n",
    "plt.plot(Age, Tarif, 'k.')\n",
    "line = a*Age+b\n",
    "plt.plot(Age,line,'r-',Age,Tarif,'o')\n",
    "plt.axis([0, 85, 0, 600])\n",
    "plt.grid(True)\n",
    "plt.show()"
   ]
  },
  {
   "cell_type": "markdown",
   "metadata": {},
   "source": [
    "- L'age et le tarif étant les deux seules valeurs vraiment varible, je me base sur celle-ci pour effectuer une regression linéaire convenable. Ici, celle-ci n'a pas vraiment de sens car elle servirait à déterminer quel tarif aurait un passage en fonction de son age. Néanmoins, nous pouvons voir plus facilement grâce à celle-ci les valeurs résiduelles."
   ]
  },
  {
   "cell_type": "markdown",
   "metadata": {},
   "source": [
    "## Analyse du tarif : Proportions"
   ]
  },
  {
   "cell_type": "code",
   "execution_count": 170,
   "metadata": {
    "collapsed": false,
    "scrolled": true
   },
   "outputs": [
    {
     "name": "stdout",
     "output_type": "stream",
     "text": [
      "Prix moyen du billet :  32.23 €\n",
      "Proportion de pauvres 0.76\n",
      "Proportion de riches 0.24\n",
      "Pourcentage de pauvres qui survivent 63.16\n",
      "Pourcentage de riches qui survivent 36.84\n"
     ]
    }
   ],
   "source": [
    "#Etablissement de la moyenne du billet\n",
    "dfdata = np.array(df)\n",
    "dfdata = dfdata[1::]\n",
    "fare = dfdata[0::,9].astype(np.float)\n",
    "moyenneBillet = np.average(fare)\n",
    "print('Prix moyen du billet : {p: .2f} €'.format(p=moyenneBillet))\n",
    "\n",
    "listePascher = fare < moyenneBillet\n",
    "listeCher = fare >= moyenneBillet\n",
    "pauvres = 0\n",
    "riches = 0\n",
    "for i in listePascher:\n",
    "    if i == True:\n",
    "        pauvres = pauvres + 1\n",
    "for i in listeCher:\n",
    "    if i == True:\n",
    "        riches = riches + 1\n",
    "\n",
    "pourcentagePauvres = float(pauvres)/float(pauvres+riches)\n",
    "pourcentageRiches  = float(riches)/float(pauvres+riches)\n",
    "\n",
    "print('Proportion de pauvres {p:.2f}'.format(p=pourcentagePauvres))\n",
    "print('Proportion de riches {p:.2f}'.format(p=pourcentageRiches))\n",
    "\n",
    "pauvresOK = dfdata[listePascher,1].astype(np.float)\n",
    "richesOK = dfdata[listeCher,1].astype(np.float)\n",
    "\n",
    "pourcentagePauvresOK = (float(np.sum(pauvresOK))/float(np.sum(pauvresOK)+np.sum(richesOK)))*100\n",
    "pourcentageRichesOK = (float(np.sum(richesOK))/float(np.sum(pauvresOK)+np.sum(richesOK)))*100\n",
    "\n",
    "print('Pourcentage de pauvres qui survivent {p:.2f}'.format(p=pourcentagePauvresOK))\n",
    "print('Pourcentage de riches qui survivent {p:.2f}'.format(p=pourcentageRichesOK))"
   ]
  },
  {
   "cell_type": "markdown",
   "metadata": {
    "collapsed": false
   },
   "source": [
    "- Nous pouvons observer grâce à ce pourcentage final qu'il est plus probable de survivre sur le titanic si nous avons payé le billet en dessous de 32,23€ (ce que nous considérons dans nos calcules comme des pauvres)."
   ]
  },
  {
   "cell_type": "markdown",
   "metadata": {},
   "source": [
    "## Analyse : Observation des differentes populations"
   ]
  },
  {
   "cell_type": "code",
   "execution_count": 160,
   "metadata": {
    "collapsed": false
   },
   "outputs": [
    {
     "data": {
      "image/png": "[encoded data removed]",
      "text/plain": [
       "<matplotlib.figure.Figure at 0xf40c080>"
      ]
     },
     "metadata": {},
     "output_type": "display_data"
    }
   ],
   "source": [
    "tt = pd.read_csv('train.csv', header=0)\n",
    "\n",
    "sexF = tt[\"Sex\"] == \"female\"\n",
    "sexH = tt[\"Sex\"] == \"male\"\n",
    "\n",
    "nbF = len(tt[sexF])\n",
    "nbH = len(tt[sexH])\n",
    "\n",
    "#KO -> Morts\n",
    "survKO = tt[\"Survived\"] == 0\n",
    "FKO = tt[ sexF & survKO ]\n",
    "HKO = tt[ sexH & survKO ]\n",
    "nbFKO = len(FKO)\n",
    "nbHKO = len(HKO)\n",
    "#OK -> survivants\n",
    "survOK = tt[\"Survived\"] == 1\n",
    "HOK = tt [ sexH & survOK ]\n",
    "FOK = tt [ sexF & survOK ]\n",
    "nbFOK = len(FOK)\n",
    "nbHOK = len(HOK)\n",
    "\n",
    "objects = ('FKO', 'FOK', 'HKO', 'HOK', 'SumKO', 'SumOK', 'SumH', 'SumF', 'H+F')\n",
    "y_pos = np.arange(len(objects))\n",
    "performance = [ nbFKO, nbFOK, nbHKO, nbHOK, nbHKO+nbFKO, nbHOK+nbFOK, nbH, nbF, float(nbF+nbH)]\n",
    " \n",
    "plt.bar(y_pos, performance, align='center', alpha=0.9)\n",
    "plt.xticks(y_pos, objects)\n",
    "plt.ylabel('Pourcentage')\n",
    "plt.title('Nombre des differentes population')\n",
    "plt.show()"
   ]
  },
  {
   "cell_type": "markdown",
   "metadata": {},
   "source": [
    "- Nous pouvons observer grâce à ce graphique que les femmes qui sont surviantes en majoritées sont quasiment autant que la somme des survivants hommes et femmes réunnies"
   ]
  },
  {
   "cell_type": "code",
   "execution_count": 171,
   "metadata": {
    "collapsed": false
   },
   "outputs": [
    {
     "data": {
      "image/png": "[encoded data removed]",
      "text/plain": [
       "<matplotlib.figure.Figure at 0xc5b9748>"
      ]
     },
     "metadata": {},
     "output_type": "display_data"
    }
   ],
   "source": [
    "propHKO = float(nbHKO)/float(nbFKO+nbHKO)\n",
    "propFKO = float(nbFKO)/float(nbFKO+nbHKO)\n",
    "propHOK = float(nbHOK)/float(nbFOK+nbHOK)\n",
    "propFOK = float(nbFOK)/float(nbFOK+nbHOK)\n",
    "\n",
    "objects = ('Hommes KO', 'Femmes KO', 'Hommes OK', 'Femmes OK')\n",
    "y_pos = np.arange(len(objects))\n",
    "performance = [ propHKO, propFKO, propHOK, propFOK]\n",
    "\n",
    "plt.bar(y_pos, performance, align='center', alpha=0.9)\n",
    "plt.xticks(y_pos, objects)\n",
    "plt.ylabel('Pourcentage')\n",
    "plt.title('Nombre des differentes population')\n",
    "plt.show()"
   ]
  },
  {
   "cell_type": "markdown",
   "metadata": {},
   "source": [
    "- En pourcentage, ce graphique nous permet de mieux nous rendre compte que les hommes sont ceux qui ont le moins survécu et que donc, les femmes sont celles qui ont le meux survécu."
   ]
  },
  {
   "cell_type": "code",
   "execution_count": null,
   "metadata": {
    "collapsed": true
   },
   "outputs": [],
   "source": []
  }
 ],
 "metadata": {
  "anaconda-cloud": {},
  "kernelspec": {
   "display_name": "Python [conda root]",
   "language": "python",
   "name": "conda-root-py"
  },
  "language_info": {
   "codemirror_mode": {
    "name": "ipython",
    "version": 2
   },
   "file_extension": ".py",
   "mimetype": "text/x-python",
   "name": "python",
   "nbconvert_exporter": "python",
   "pygments_lexer": "ipython2",
   "version": "2.7.12"
  }
 },
 "nbformat": 4,
 "nbformat_minor": 1
}
