{
 "cells": [
  {
   "cell_type": "markdown",
   "metadata": {},
   "source": [
    "# Review P2 Kevin HIpeau"
   ]
  },
  {
   "cell_type": "markdown",
   "metadata": {},
   "source": [
    "IN 1 : Beaucoup d'importations des librairies sont faite. Est-ce une bonne chose de prendre des librairies qui ne sont pas demander ? Nous allons le découvrir ensemble."
   ]
  },
  {
   "cell_type": "markdown",
   "metadata": {},
   "source": [
    "IN 2 : Aucune librairie n'est utilisé pour importer très rapidement le csv... dommage mais le principale est que les données soit dans une variable de type tableau."
   ]
  },
  {
   "cell_type": "markdown",
   "metadata": {},
   "source": [
    "IN 3 : la récupération des données par panda est finalement faite dans une autre variable, voyons à quoi elle va servir."
   ]
  },
  {
   "cell_type": "markdown",
   "metadata": {},
   "source": [
    "IN 4 : Le nettoyage des données est bien fait avant de commencer les calcles"
   ]
  },
  {
   "cell_type": "markdown",
   "metadata": {},
   "source": [
    "Histogramme 1 : l'idée était bonne mais le resultat est qu'il n'y a pas de lien entre la classe et la survie."
   ]
  },
  {
   "cell_type": "markdown",
   "metadata": {},
   "source": [
    "Pie chart 1 : à noter que les pie chart ne sont pas apprécié par les data scientist comme me l'a si bien dit Jeff."
   ]
  },
  {
   "cell_type": "markdown",
   "metadata": {},
   "source": [
    "Histogramme 2 : Le pourcentage aurait était fait sur la somme total des passager, il n'y aurait pas eu besoin de faire ET les survivant ET les non-survivant pour être sur qu'il n'y avait pas de lien entre la classe et la suivie sur la bateau."
   ]
  },
  {
   "cell_type": "markdown",
   "metadata": {},
   "source": [
    "Pie chart 2 : Même remarque qu'au dessus."
   ]
  },
  {
   "cell_type": "markdown",
   "metadata": {},
   "source": [
    "Histogramme 3 & 4 : il est amusant de regarder cette statistique mais cela relève plus de la superstition (rire). Même remarque qu'au dessus encore une fois."
   ]
  },
  {
   "cell_type": "markdown",
   "metadata": {},
   "source": [
    "Nuage de point 1 : Bon graphique où une regression linaire aurait pû être utile."
   ]
  },
  {
   "cell_type": "markdown",
   "metadata": {},
   "source": [
    "Nuage de point 2 : Ici c'est l'inverse, la regression linaire est utile mais le graphique n'est pas très adapté."
   ]
  },
  {
   "cell_type": "markdown",
   "metadata": {},
   "source": [
    "Les Predictions : Ils sont une très bonne idée même si c'est fait avec des librairies qui n'était pas au programme. Les graphiques de ces predictions sont par contre inutile."
   ]
  },
  {
   "cell_type": "markdown",
   "metadata": {},
   "source": [
    "Les arbres decisionnels : Il est interessant de voir comment le programme fait ses préctions car une chose et sûr, le meilleur moyen de savoir si il y a une anomalie c'est d'estimer quels auraient été les resultats et les comparer avec la réalité. Malheureusement ici les arbres ne nous aide pas du tout car pas représentatif du tout ! Chapeau pour avoir trouver comment faire des prédictions en tout cas !"
   ]
  },
  {
   "cell_type": "markdown",
   "metadata": {},
   "source": []
  }
 ],
 "metadata": {
  "anaconda-cloud": {},
  "kernelspec": {
   "display_name": "Python [default]",
   "language": "python",
   "name": "python2"
  },
  "language_info": {
   "codemirror_mode": {
    "name": "ipython",
    "version": 2
   },
   "file_extension": ".py",
   "mimetype": "text/x-python",
   "name": "python",
   "nbconvert_exporter": "python",
   "pygments_lexer": "ipython2",
   "version": "2.7.12"
  }
 },
 "nbformat": 4,
 "nbformat_minor": 1
}
