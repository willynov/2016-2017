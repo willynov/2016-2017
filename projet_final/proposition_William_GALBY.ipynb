{
 "cells": [
  {
   "cell_type": "markdown",
   "metadata": {},
   "source": [
    "# Proposition William GALBY"
   ]
  },
  {
   "cell_type": "markdown",
   "metadata": {},
   "source": [
    "## Contexte :"
   ]
  },
  {
   "cell_type": "markdown",
   "metadata": {
    "collapsed": true
   },
   "source": [
    "Depuis 3 mois, le campus Ynov de Nantes, dans un souci d’écologie mais surtout dans un but de gain de temps, expérimente une nouvelle façon de dématérialiser les feuilles d’émargement des cours qu’il dispense : le progiciel ‘’ JeSuisEnCours ‘’ de la société JDS Conseil. Bientôt éprouvé et approuvé par l’administration et ses utilisateurs finaux (front office), ce système permettra également d’automatiser bien d’autres tâches rébarbatives liées aux absences par rapport aux plages horaires prédéfinit  pour chaque étudiants."
   ]
  },
  {
   "cell_type": "markdown",
   "metadata": {},
   "source": [
    "## Les inconvénients :"
   ]
  },
  {
   "cell_type": "markdown",
   "metadata": {},
   "source": [
    "Les avantages ne sont pas à démontrer tellement ils sont légions. A contrario, les inconvénients se font plus rare et se découvre à l’utilisation au quotidien. En effet, en plus des inconvénients pour les étudiants, à savoir, une feuille d’émargement fixe (dans le mur à l'extérieur de la salle) et des horaires très stricts, ce système a également un défaut pour les utilisateurs côté \"back office\" (l’administration du campus) : Les tablettes mettent un élève présent dès le moindre trait de crayon virtuel. Il n’y a aucune vérification de l’étudiant qui signe ainsi que de la véracité de la signature.\n",
    "\n",
    "Ce qui fait que les étudiants ne prennent pas au sérieux cette nouvelle technologie et des débordement se feront vite ressentir (signature à la place des camarades, dessins ou texte à la place de signature, etc.)"
   ]
  },
  {
   "cell_type": "markdown",
   "metadata": {},
   "source": [
    "## Solution :"
   ]
  },
  {
   "cell_type": "markdown",
   "metadata": {},
   "source": [
    "Je propose pour résoudre ce problème, d’apprendre à partir d’une 1ère signature vérifiée par l’humain puis d’apprend après chaque nouvelle signature, la véracité de celle-ci. Si je vois qu'une signature ne suffit pas pour faire une bonne détection, je partirai d'une jeu de signature plus grand.\n",
    "\n",
    "Ensuite, je laisserai la possibilité à l'administration d'Ynov Nantes de saisir deux paramètres qui seront :\n",
    "- le degré de détection ;\n",
    "- le nom d'occurence de fausses signatures avant alerte (par mail ou autre notification)."
   ]
  },
  {
   "cell_type": "markdown",
   "metadata": {},
   "source": [
    "### Dans la théorie :"
   ]
  },
  {
   "cell_type": "markdown",
   "metadata": {},
   "source": [
    "J’aurais utilisé les API que le progiciel fournit, à savoir L’API GetSignatureList\n",
    "\n",
    "La documentation dit : \"Celon le site internet, elle permet de récupérer la liste des présences en cours et des images PNG des signatures. Cette API permet également de mettre à jour en quasi temps réel les systèmes d’appels intégrés dans les logiciels métiers des OF et de déclencher des alertes pour les apprenants notés absents à l’heure de fermeture de la tranche horaire de signature autorisée."
   ]
  },
  {
   "cell_type": "markdown",
   "metadata": {},
   "source": [
    "<img src=\"API.jpg\">"
   ]
  },
  {
   "cell_type": "markdown",
   "metadata": {},
   "source": [
    "Une URL unique par signature recueillie permet aussi de réaliser une interface vers l’image de la signature, soit par récupération HTTPS de l’image en question, soit en intégrant un lien URL dans le logiciel métier, autorisant un accès direct à la signature unitaire d’un cours pour un stagiaire ou un formateur.\" - Source : https://jesuisencours.com/api"
   ]
  },
  {
   "cell_type": "markdown",
   "metadata": {},
   "source": [
    "### Dans la pratique :"
   ]
  },
  {
   "cell_type": "markdown",
   "metadata": {},
   "source": [
    "Après un exposé des points ci-dessus à l’administration, ils leurs est apparu un vrai atout. Néanmoins, n’étant pas prêt à implémenter cette fonctionnalité directement en production par peur faire défaillir le systeme et ses avantages cité au-dessus (la signature est au cœur de ce système), ils m’ont demandé de leur montrer un programme fonctionnel dans un premier temps. \n",
    "\n",
    "Je me situe dans tous les cas au niveau de la sortie du schémas ci-dessus, c-a-d qu'en attendant qu'on me donne l'autorisation de récupérer de vraies signatures, je vais me créer une jeu d'images de ma propre signature au même format (png) et aux mêmes dimensions (largeurxlongeur) que celui proposé par jesuisencours.\n",
    "\n",
    "Concernant la sortie de mon programme nous aurons donc un tableau de concordance avec le nom des étudiants ainsi que leur score de véracités de signatures sachant que plus on se rapproche de 1 et plus la signature est correct. Le paramètre que va indiquer l'administration sera le seuille le plus bas à ne pas dépasser entre (entre 0 et 0,9 donc). Nous aurons  donc un tableau avec les colonnes suivantes :\n",
    "- Nom de l'étudiants STRING 40\n",
    "- Prénom de l'étudiants STRING 50\n",
    "- Précision FLOAT de O à 1\n",
    "- Score de la véracité de la signature FLOAT de O à 1\n",
    "\n",
    "Puis j'indiquerai en score total pour un étudiant du nombre de fois où la signature n'est pas acceptable (c-a-d inférieur à la précision donné par l'administration en paramètre)\n",
    "\n",
    "Pour finir, j'indiquerai sous forme d'alerte si le nombre de fois qu'un étudiant a dépassé le nombre de signatures erronées a été atteint. Je me refererai bien entendu aux deuxième paramètres que l'administration m'aura donnée."
   ]
  },
  {
   "cell_type": "code",
   "execution_count": null,
   "metadata": {
    "collapsed": true
   },
   "outputs": [],
   "source": []
  }
 ],
 "metadata": {
  "anaconda-cloud": {},
  "kernelspec": {
   "display_name": "Python [conda root]",
   "language": "python",
   "name": "conda-root-py"
  },
  "language_info": {
   "codemirror_mode": {
    "name": "ipython",
    "version": 2
   },
   "file_extension": ".py",
   "mimetype": "text/x-python",
   "name": "python",
   "nbconvert_exporter": "python",
   "pygments_lexer": "ipython2",
   "version": "2.7.12"
  }
 },
 "nbformat": 4,
 "nbformat_minor": 1
}
