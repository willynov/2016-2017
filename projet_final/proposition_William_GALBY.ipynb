{
 "cells": [
  {
   "cell_type": "markdown",
   "metadata": {},
   "source": [
    "# Proposition William GALBY"
   ]
  },
  {
   "cell_type": "markdown",
   "metadata": {},
   "source": [
    "## Contexte :"
   ]
  },
  {
   "cell_type": "markdown",
   "metadata": {
    "collapsed": true
   },
   "source": [
    "Depuis 3 mois, le campus Ynov de Nantes, dans un souci d’écologie mais surtout dans un but de gain de temps, expérimente une nouvelle façon de dématérialiser les feuilles d’émargement des cours qu’il dispense : le progiciel ‘’ JeSuisEnCours ‘’ de la société JDS Conseil. Bientôt éprouvé et approuvé par l’administration et ses utilisateurs finaux (front office), ce système permettra également d’automatiser bien d’autres tâches rébarbatives liées aux absences par rapport aux plages horaires prédéfinit  pour chaque étudiants."
   ]
  },
  {
   "cell_type": "markdown",
   "metadata": {},
   "source": [
    "## Les inconvénients :"
   ]
  },
  {
   "cell_type": "markdown",
   "metadata": {},
   "source": [
    "Les avantages ne sont pas à démontrer tellement ils sont légions. A contrario, les inconvénients se font plus rare et se découvre à l’utilisation au quotidien. En effet, en plus des inconvénients pour les étudiants, à savoir, une feuille d’émargement fixe et des horaires très stricts, ce système a également un défaut pour les utilisateurs côté back office (l’administration du campus) : Les tablettes mettent un élève présent dès le moindre trait de crayon virtuel. Il n’y a aucune vérification de l’étudiant qui signe ainsi que de la véracité de la signature."
   ]
  },
  {
   "cell_type": "markdown",
   "metadata": {},
   "source": [
    "## Solution :"
   ]
  },
  {
   "cell_type": "markdown",
   "metadata": {},
   "source": [
    "Je propose pour résoudre ce problème, d’apprendre à partir d’une 1ère signature vérifiée par l’humain puis d’apprend après chaque nouvelle signature, la véracité de celle-ci. "
   ]
  },
  {
   "cell_type": "markdown",
   "metadata": {},
   "source": [
    "### Dans la théorie :"
   ]
  },
  {
   "cell_type": "markdown",
   "metadata": {},
   "source": [
    "J’aurai utilisé les API que le progiciel fournit, à savoir L’API GetSignatureList : \"Celon le site internet, elle permet de récupérer la liste des présences en cours et des images PNG des signatures. Cette API permet également de mettre à jour en quasi temps réel les systèmes d’appels intégrés dans les logiciels métiers des OF et de déclencher des alertes pour les apprenants notés absents à l’heure de fermeture de la tranche horaire de signature autorisée."
   ]
  },
  {
   "cell_type": "markdown",
   "metadata": {},
   "source": [
    "<img src=\"API.jpg\">"
   ]
  },
  {
   "cell_type": "markdown",
   "metadata": {},
   "source": [
    "Une URL unique par signature recueillie permet aussi de réaliser une interface vers l’image de la signature, soit par récupération HTTPS de l’image en question, soit en intégrant un lien URL dans le logiciel métier, autorisant un accès direct à la signature unitaire d’un cours pour un stagiaire ou un formateur.\" - Source : https://jesuisencours.com/api"
   ]
  },
  {
   "cell_type": "markdown",
   "metadata": {},
   "source": [
    "### Dans la pratique :"
   ]
  },
  {
   "cell_type": "markdown",
   "metadata": {},
   "source": [
    "Après un exposé des points ci-dessus à l’administration, ils leurs est apparu un vrai atout. Néanmoins, n’étant pas prêt à implémenté cette fonctionnalité par peur d’annuler tous les avantages cité au-dessus (la signature est au cœur de ce système), ils m’ont demandé de leur montrer un programme fonctionnel dans un premier temps. Pour concorder avec le cours, je vais programmer cette fonctionnalité en Python avec une base de donné d’image du même format."
   ]
  },
  {
   "cell_type": "code",
   "execution_count": null,
   "metadata": {
    "collapsed": true
   },
   "outputs": [],
   "source": []
  }
 ],
 "metadata": {
  "anaconda-cloud": {},
  "kernelspec": {
   "display_name": "Python [conda root]",
   "language": "python",
   "name": "conda-root-py"
  },
  "language_info": {
   "codemirror_mode": {
    "name": "ipython",
    "version": 2
   },
   "file_extension": ".py",
   "mimetype": "text/x-python",
   "name": "python",
   "nbconvert_exporter": "python",
   "pygments_lexer": "ipython2",
   "version": "2.7.12"
  }
 },
 "nbformat": 4,
 "nbformat_minor": 1
}
