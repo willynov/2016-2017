{
 "cells": [
  {
   "cell_type": "markdown",
   "metadata": {},
   "source": [
    "# Rapport_1"
   ]
  },
  {
   "cell_type": "markdown",
   "metadata": {},
   "source": [
    "## 1ère étape : Recherche du meilleur algorithme sur Sklearn"
   ]
  },
  {
   "cell_type": "markdown",
   "metadata": {},
   "source": [
    "En adéquation avec mon emploi du temps, ma 1ère étape a été de tester, comprendre et observer les résultat de tous les algorithmes que propose sklearn, ils sont au nombre de 6 :\n",
    "- [Comment se servir du dataset digit](http://scikit-learn.org/stable/auto_examples/datasets/plot_digits_last_image.html#sphx-glr-auto-examples-datasets-plot-digits-last-image-py)\n",
    "- [Utilisation de l'algo semi supervisé - Propagation d'étiquettes](http://scikit-learn.org/stable/auto_examples/semi_supervised/plot_label_propagation_digits_active_learning.html#sphx-glr-auto-examples-semi-supervised-plot-label-propagation-digits-active-learning-py)\n",
    "- [Utilisation de l'algo semi supervisé - autre exemple par étiquettes](http://scikit-learn.org/stable/auto_examples/semi_supervised/plot_label_propagation_digits.html#sphx-glr-auto-examples-semi-supervised-plot-label-propagation-digits-py)\n",
    "- [Utilisation de l'algo par classification (celui du tuto sklearn)](http://scikit-learn.org/stable/auto_examples/classification/plot_digits_classification.html#sphx-glr-auto-examples-classification-plot-digits-classification-py)\n",
    "- [Utilisation de l'algo de BernoulliRBM](http://scikit-learn.org/stable/auto_examples/neural_networks/plot_rbm_logistic_classification.html#sphx-glr-auto-examples-neural-networks-plot-rbm-logistic-classification-py)\n",
    "- [Utilisation de l'algo du plus proche voisin KDE](http://scikit-learn.org/stable/auto_examples/neighbors/plot_digits_kde_sampling.html#sphx-glr-auto-examples-neighbors-plot-digits-kde-sampling-py)\n",
    "- [Utilisation de l'algo d'aglomération](http://scikit-learn.org/stable/auto_examples/cluster/plot_digits_agglomeration.html#sphx-glr-auto-examples-cluster-plot-digits-agglomeration-py)\n",
    "\n",
    "J’aurai volontié utilisé l'algorihtme de reconnaissance par classification qui a les meilleurs résultats mais j'ai soulevé deux problemes sur chacun de mes tests qui seront bloquants pour mon projet :\n",
    "- L'utilisation de fonctions créees par sklearn m'empêche de faire des traitements dans les algorithmes principaux ; \n",
    "- Les résultats ne sont pas assez pécit pour une utilisation avec des images grands format donc avec des signatures\n",
    "\n",
    "Je dois donc aller chercher ailleurs... Néanmoins, à force de dérouler des algorithmes de reconnaisance de chiffre, je comprend mieux comment apréhender ce type d'exercice."
   ]
  },
  {
   "cell_type": "markdown",
   "metadata": {},
   "source": [
    "## 2ème étape : Recherche le meilleur algorithme sur internet"
   ]
  },
  {
   "cell_type": "markdown",
   "metadata": {},
   "source": [
    "A force de recherche et de tests, j'ai enfin trouvé un algoritmes digne de ce nom. Il se nom : $1 Recognizer. Il provient de 3 personnes qui travaillent actuellement chez Google :\n",
    "- Jacob O. Wobbrock, University of Washington ;\n",
    "- Andrew D. Wilson, Microsoft Research ;\n",
    "- Yang Li, University of Washington.\n",
    "\n",
    "Algo présent dans : reconnaissance_signatures.ipynb"
   ]
  },
  {
   "cell_type": "markdown",
   "metadata": {},
   "source": [
    "## Prochaine étape"
   ]
  },
  {
   "cell_type": "markdown",
   "metadata": {},
   "source": [
    "Maintenant que j'ai prit la mains sur cette algorithme et imaginé comment je pouvais le modeler pour mon projet de reconnaisance de signature, il me restera donc à l'adapter pour cette utilisation ainsi qu'à le rendre plus dynamique : comme évoqué dans ma proposition, c-a-d d'offir la possibilité à l'utilisateur finale de rentrer des paramètres et de lui ressortir un tableau récapitulatif des résultat obtenu, le tout, avec un dataset de signature et non de chiffre."
   ]
  },
  {
   "cell_type": "code",
   "execution_count": null,
   "metadata": {
    "collapsed": true
   },
   "outputs": [],
   "source": []
  }
 ],
 "metadata": {
  "anaconda-cloud": {},
  "kernelspec": {
   "display_name": "Python [conda root]",
   "language": "python",
   "name": "conda-root-py"
  },
  "language_info": {
   "codemirror_mode": {
    "name": "ipython",
    "version": 2
   },
   "file_extension": ".py",
   "mimetype": "text/x-python",
   "name": "python",
   "nbconvert_exporter": "python",
   "pygments_lexer": "ipython2",
   "version": "2.7.12"
  }
 },
 "nbformat": 4,
 "nbformat_minor": 1
}
