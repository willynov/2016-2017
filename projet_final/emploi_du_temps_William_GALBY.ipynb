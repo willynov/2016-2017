{
 "cells": [
  {
   "cell_type": "markdown",
   "metadata": {},
   "source": [
    "# Emploi du temps William GALBY"
   ]
  },
  {
   "cell_type": "markdown",
   "metadata": {
    "collapsed": true
   },
   "source": [
    "## Proposition de projet : vendredi 20 janvier\n",
    "\n",
    "DONE !\n",
    "\n",
    "## Premier point (rapport 1) : lundi 30 janvier\n",
    "\n",
    "Se renseigner sur les techniques d'apprentissages des chiffres (vu sur sklearn).\n",
    "\n",
    "DONE !\n",
    "\n",
    "## Rapport 2 : vendredi 10 février\n",
    "\n",
    "Implémenter l'algo pour reconnaitre des signatures et demander à l'administration du campus Ynov Nantes si je peux avoir les accès à l'api du progiciel jesuisencours :\n",
    "- Si acceptiation de mon algo en production : l'adapter avec le langage du progiciel jesuisencours ;\n",
    "- Si refus de mon algo en production : simuler un environement qui ressemble le plus à la réalité de l'environement en production.\n",
    "\n",
    "DONE !\n",
    "\n",
    "## Rapport 3 : lundi 20 février\n",
    "\n",
    "Adapter le programme selon la réponse à la question ci-dessous et creer ensuite une base de donnée de signatures.\n",
    "\n",
    "DONE !\n",
    "\n",
    "## Rapport 4 : mercredi 1 mars\n",
    "\n",
    "Finir l'algo et le mettre dans un contexte d'utilisation dans le campus avec le progiciel.\n",
    "\n",
    "DONE !\n",
    "\n",
    "## Présentation (sept minutes chacun) : jeudi 9 mars\n",
    "\n",
    "Vous aurez sept minutes pour présenter votre projet avec trois minutes réservées aux questions.\n",
    "\n",
    "\n",
    "## Rapport final : jeudi 16 mars (via github)\n",
    "\n",
    "Vous allez utilisez github tout au longue du projet, n'est-ce pas ?\n"
   ]
  },
  {
   "cell_type": "code",
   "execution_count": null,
   "metadata": {
    "collapsed": true
   },
   "outputs": [],
   "source": []
  }
 ],
 "metadata": {
  "anaconda-cloud": {},
  "kernelspec": {
   "display_name": "Python [conda root]",
   "language": "python",
   "name": "conda-root-py"
  },
  "language_info": {
   "codemirror_mode": {
    "name": "ipython",
    "version": 2
   },
   "file_extension": ".py",
   "mimetype": "text/x-python",
   "name": "python",
   "nbconvert_exporter": "python",
   "pygments_lexer": "ipython2",
   "version": "2.7.12"
  }
 },
 "nbformat": 4,
 "nbformat_minor": 1
}
