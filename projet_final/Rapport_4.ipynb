{
 "cells": [
  {
   "cell_type": "markdown",
   "metadata": {},
   "source": [
    "# Rapport_4"
   ]
  },
  {
   "cell_type": "markdown",
   "metadata": {},
   "source": [
    "## 5ème étape (si il me reste du temps) : Exportation et collecte des résultats dans un CSV"
   ]
  },
  {
   "cell_type": "markdown",
   "metadata": {},
   "source": [
    "Pour remplacer toujours le progiciel jesuisencours, je vais insérer dans un CSV tous les résultats pour garder une trace de l’apprentissage à chaque lancement complet du programme puis je vais indiquer selon si la signature est correct ou non : étudiant présent ou absent."
   ]
  },
  {
   "cell_type": "markdown",
   "metadata": {},
   "source": [
    "## Fin du projet : paufinement des derniers détails"
   ]
  },
  {
   "cell_type": "markdown",
   "metadata": {},
   "source": [
    "En cours de réalisation"
   ]
  }
 ],
 "metadata": {
  "anaconda-cloud": {},
  "kernelspec": {
   "display_name": "Python [conda root]",
   "language": "python",
   "name": "conda-root-py"
  },
  "language_info": {
   "codemirror_mode": {
    "name": "ipython",
    "version": 2
   },
   "file_extension": ".py",
   "mimetype": "text/x-python",
   "name": "python",
   "nbconvert_exporter": "python",
   "pygments_lexer": "ipython2",
   "version": "2.7.12"
  }
 },
 "nbformat": 4,
 "nbformat_minor": 1
}
