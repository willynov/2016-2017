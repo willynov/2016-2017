{
 "cells": [
  {
   "cell_type": "markdown",
   "metadata": {},
   "source": [
    "# Rapport_3"
   ]
  },
  {
   "cell_type": "markdown",
   "metadata": {},
   "source": [
    "## 4ème étape : Adaptation selon du programme selon la réponse de l'administration et creer une base de donnée de signatures"
   ]
  },
  {
   "cell_type": "markdown",
   "metadata": {},
   "source": [
    "Suite à la réponse négative de l'administration, je suis contrain de changer mes plans. En effet, sans possibilité d'appel à l'api jesuisencours, il est inutile de faire des tests sur des images puisque je n'aurais jamais les images des signatures. Il me faudrait donc trouver un moyen de me rapprocher le plus possible du contexte d'une signature sur tablette comme le fait jesuisencours (le remplacer entièrement en quelques sortes). Je vais donc améliorer mon programme pour qu’il se rapproche encore un peu plus d’une utilisation en situation réel au sein du campus Ynov Nantes.\n",
    "\n",
    "Pour cela, je vais toujours utiliser l'algorithme one-dollar, le langage python avec de surcroit : la librairie pygame.\n",
    "\n",
    "Je ne vais donc plus ici créer un dataset d’images de signatures fait avec un logiciel tier (comme paint.net par exemple) pour simuler une reception de l'api jesuisencours, mais bien créer un nuage de points que je vais enregistrer directement auprès de l’utilisateur. Une fois récupérer, mon programme stockera ces nuages de points pour servir de base de données d’apprentissage. Ensuite il faudra renseigner quelques variables gloables permettant de personaliser le programme (Nom, Prénom, précision : comme indiqué dans ma proposition_William_GALBY.ipynb). Dès le lancement de la partie du programme qui reconnait les signatures, une nouvelle fenêtre pygame s’ouvre pour taper la fameuse signature à vérifier.\n",
    "Schéma récapitulatif étape par étape comme suit :"
   ]
  },
  {
   "cell_type": "markdown",
   "metadata": {},
   "source": [
    "<img src=\"APImaj.jpg\">"
   ]
  },
  {
   "cell_type": "markdown",
   "metadata": {},
   "source": [
    "## Prochaine étape"
   ]
  },
  {
   "cell_type": "markdown",
   "metadata": {},
   "source": [
    "S’il me reste encore du temps, j’implémenterais une dernière partie qui consistera à remplacer le plus possible le progiciel jesuisencours que je ne peux accèder."
   ]
  },
  {
   "cell_type": "code",
   "execution_count": null,
   "metadata": {
    "collapsed": true
   },
   "outputs": [],
   "source": []
  }
 ],
 "metadata": {
  "anaconda-cloud": {},
  "kernelspec": {
   "display_name": "Python [conda root]",
   "language": "python",
   "name": "conda-root-py"
  },
  "language_info": {
   "codemirror_mode": {
    "name": "ipython",
    "version": 2
   },
   "file_extension": ".py",
   "mimetype": "text/x-python",
   "name": "python",
   "nbconvert_exporter": "python",
   "pygments_lexer": "ipython2",
   "version": "2.7.12"
  }
 },
 "nbformat": 4,
 "nbformat_minor": 1
}
