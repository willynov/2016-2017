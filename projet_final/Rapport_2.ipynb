{
 "cells": [
  {
   "cell_type": "markdown",
   "metadata": {},
   "source": [
    "# Rapport_2"
   ]
  },
  {
   "cell_type": "markdown",
   "metadata": {},
   "source": [
    "## 3ème étape : Implémentation de l'algo pour reconnaitre des signatures et soumission du projet à l'administration "
   ]
  },
  {
   "cell_type": "markdown",
   "metadata": {},
   "source": [
    "Maintenant que j'ai trouvé, adapté puis développé l'algo pour qu’il fonctionne avec des signatures, je vais pouvoir présenter mon travail à l’administration du campus Ynov de Nantes pour savoir dans quelle direction continuer mon projet."
   ]
  },
  {
   "cell_type": "markdown",
   "metadata": {},
   "source": [
    "Comme précisé dans mon emploi_du_temps.ipynb, il y avait deux résultantes possible à la présentation de mon projet. J'ai donc prit en compte la réponse positive ou la réponse négative comme suit :\n",
    "- Si acceptiation de mon algo en production : l'adapter avec le langage du progiciel jesuisencours ;\n",
    "- Si refus de mon algo en production : simuler un environement qui ressemble le plus à la réalité de l'environement en production."
   ]
  },
  {
   "cell_type": "markdown",
   "metadata": {},
   "source": [
    "### 1ère tentative :\n",
    "<img src=\"IMG-20170306-WA0003.jpg\">\n",
    "\n",
    "### 2ème tentative :\n",
    "<img src=\"IMG-20170306-WA0002.jpg\">\n",
    "\n",
    "Malheureusement, suite au changement de direction, je ne peux avoir ma réponse tout de suite. Néanmois, Nicolas DUMEZ étant responsable de cette partie du campus Ynov de Nantes, il m'a tout de même donné sa réponse qui est un refus cathégorique comme vous pouvez le contatez sur l'image ci-dessous :"
   ]
  },
  {
   "cell_type": "markdown",
   "metadata": {},
   "source": [
    "## Prochaine étape"
   ]
  },
  {
   "cell_type": "markdown",
   "metadata": {},
   "source": [
    "Je devrais donc adapter mon programme selon cette réponse comme expliqué dans mon emploi_du_temps.ipynb. "
   ]
  },
  {
   "cell_type": "code",
   "execution_count": null,
   "metadata": {
    "collapsed": true
   },
   "outputs": [],
   "source": []
  },
  {
   "cell_type": "markdown",
   "metadata": {},
   "source": []
  }
 ],
 "metadata": {
  "anaconda-cloud": {},
  "kernelspec": {
   "display_name": "Python [conda root]",
   "language": "python",
   "name": "conda-root-py"
  },
  "language_info": {
   "codemirror_mode": {
    "name": "ipython",
    "version": 2
   },
   "file_extension": ".py",
   "mimetype": "text/x-python",
   "name": "python",
   "nbconvert_exporter": "python",
   "pygments_lexer": "ipython2",
   "version": "2.7.12"
  }
 },
 "nbformat": 4,
 "nbformat_minor": 1
}
